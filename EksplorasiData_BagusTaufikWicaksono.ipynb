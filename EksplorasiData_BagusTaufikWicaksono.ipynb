{
  "nbformat": 4,
  "nbformat_minor": 0,
  "metadata": {
    "colab": {
      "name": "EksplorasiData_BagusTaufikWicaksono.ipynb",
      "provenance": [],
      "collapsed_sections": [],
      "mount_file_id": "1UgcRPeqXmdDVRl2v0PKql6og6WwIfXus",
      "authorship_tag": "ABX9TyM46ggndKz/m93nG39rzhru",
      "include_colab_link": true
    },
    "kernelspec": {
      "name": "python3",
      "display_name": "Python 3"
    }
  },
  "cells": [
    {
      "cell_type": "markdown",
      "metadata": {
        "id": "view-in-github",
        "colab_type": "text"
      },
      "source": [
        "<a href=\"https://colab.research.google.com/github/taufikbaguss/eksplorasi/blob/master/EksplorasiData_BagusTaufikWicaksono.ipynb\" target=\"_parent\"><img src=\"https://colab.research.google.com/assets/colab-badge.svg\" alt=\"Open In Colab\"/></a>"
      ]
    },
    {
      "cell_type": "code",
      "metadata": {
        "colab": {
          "base_uri": "https://localhost:8080/"
        },
        "id": "r_fElcqU4W_d",
        "outputId": "02b60cb1-317a-4eec-af36-83b51c4e4d74"
      },
      "source": [
        "import pandas as pd\n",
        "from google.colab import drive\n",
        "drive.mount ('/content/drive')"
      ],
      "execution_count": null,
      "outputs": [
        {
          "output_type": "stream",
          "text": [
            "Drive already mounted at /content/drive; to attempt to forcibly remount, call drive.mount(\"/content/drive\", force_remount=True).\n"
          ],
          "name": "stdout"
        }
      ]
    },
    {
      "cell_type": "code",
      "metadata": {
        "colab": {
          "base_uri": "https://localhost:8080/",
          "height": 447
        },
        "id": "t-hdFM3K5_CA",
        "outputId": "fe909cc4-a1ee-48d5-db60-1200e8ff5654"
      },
      "source": [
        "import pandas as pd\n",
        "df = pd.read_csv('/content/drive/MyDrive/Colab Notebooks/menu.csv')\n",
        "df.head()"
      ],
      "execution_count": null,
      "outputs": [
        {
          "output_type": "execute_result",
          "data": {
            "text/html": [
              "<div>\n",
              "<style scoped>\n",
              "    .dataframe tbody tr th:only-of-type {\n",
              "        vertical-align: middle;\n",
              "    }\n",
              "\n",
              "    .dataframe tbody tr th {\n",
              "        vertical-align: top;\n",
              "    }\n",
              "\n",
              "    .dataframe thead th {\n",
              "        text-align: right;\n",
              "    }\n",
              "</style>\n",
              "<table border=\"1\" class=\"dataframe\">\n",
              "  <thead>\n",
              "    <tr style=\"text-align: right;\">\n",
              "      <th></th>\n",
              "      <th>Category</th>\n",
              "      <th>Item</th>\n",
              "      <th>Serving Size</th>\n",
              "      <th>Calories</th>\n",
              "      <th>Calories from Fat</th>\n",
              "      <th>Total Fat</th>\n",
              "      <th>Total Fat (% Daily Value)</th>\n",
              "      <th>Saturated Fat</th>\n",
              "      <th>Saturated Fat (% Daily Value)</th>\n",
              "      <th>Trans Fat</th>\n",
              "      <th>Cholesterol</th>\n",
              "      <th>Cholesterol (% Daily Value)</th>\n",
              "      <th>Sodium</th>\n",
              "      <th>Sodium (% Daily Value)</th>\n",
              "      <th>Carbohydrates</th>\n",
              "      <th>Carbohydrates (% Daily Value)</th>\n",
              "      <th>Dietary Fiber</th>\n",
              "      <th>Dietary Fiber (% Daily Value)</th>\n",
              "      <th>Sugars</th>\n",
              "      <th>Protein</th>\n",
              "      <th>Vitamin A (% Daily Value)</th>\n",
              "      <th>Vitamin C (% Daily Value)</th>\n",
              "      <th>Calcium (% Daily Value)</th>\n",
              "      <th>Iron (% Daily Value)</th>\n",
              "    </tr>\n",
              "  </thead>\n",
              "  <tbody>\n",
              "    <tr>\n",
              "      <th>0</th>\n",
              "      <td>Breakfast</td>\n",
              "      <td>Egg McMuffin</td>\n",
              "      <td>4.8 oz (136 g)</td>\n",
              "      <td>300</td>\n",
              "      <td>120</td>\n",
              "      <td>13.0</td>\n",
              "      <td>20</td>\n",
              "      <td>5.0</td>\n",
              "      <td>25</td>\n",
              "      <td>0.0</td>\n",
              "      <td>260</td>\n",
              "      <td>87</td>\n",
              "      <td>750</td>\n",
              "      <td>31</td>\n",
              "      <td>31</td>\n",
              "      <td>10</td>\n",
              "      <td>4</td>\n",
              "      <td>17</td>\n",
              "      <td>3</td>\n",
              "      <td>17</td>\n",
              "      <td>10</td>\n",
              "      <td>0</td>\n",
              "      <td>25</td>\n",
              "      <td>15</td>\n",
              "    </tr>\n",
              "    <tr>\n",
              "      <th>1</th>\n",
              "      <td>Breakfast</td>\n",
              "      <td>Egg White Delight</td>\n",
              "      <td>4.8 oz (135 g)</td>\n",
              "      <td>250</td>\n",
              "      <td>70</td>\n",
              "      <td>8.0</td>\n",
              "      <td>12</td>\n",
              "      <td>3.0</td>\n",
              "      <td>15</td>\n",
              "      <td>0.0</td>\n",
              "      <td>25</td>\n",
              "      <td>8</td>\n",
              "      <td>770</td>\n",
              "      <td>32</td>\n",
              "      <td>30</td>\n",
              "      <td>10</td>\n",
              "      <td>4</td>\n",
              "      <td>17</td>\n",
              "      <td>3</td>\n",
              "      <td>18</td>\n",
              "      <td>6</td>\n",
              "      <td>0</td>\n",
              "      <td>25</td>\n",
              "      <td>8</td>\n",
              "    </tr>\n",
              "    <tr>\n",
              "      <th>2</th>\n",
              "      <td>Breakfast</td>\n",
              "      <td>Sausage McMuffin</td>\n",
              "      <td>3.9 oz (111 g)</td>\n",
              "      <td>370</td>\n",
              "      <td>200</td>\n",
              "      <td>23.0</td>\n",
              "      <td>35</td>\n",
              "      <td>8.0</td>\n",
              "      <td>42</td>\n",
              "      <td>0.0</td>\n",
              "      <td>45</td>\n",
              "      <td>15</td>\n",
              "      <td>780</td>\n",
              "      <td>33</td>\n",
              "      <td>29</td>\n",
              "      <td>10</td>\n",
              "      <td>4</td>\n",
              "      <td>17</td>\n",
              "      <td>2</td>\n",
              "      <td>14</td>\n",
              "      <td>8</td>\n",
              "      <td>0</td>\n",
              "      <td>25</td>\n",
              "      <td>10</td>\n",
              "    </tr>\n",
              "    <tr>\n",
              "      <th>3</th>\n",
              "      <td>Breakfast</td>\n",
              "      <td>Sausage McMuffin with Egg</td>\n",
              "      <td>5.7 oz (161 g)</td>\n",
              "      <td>450</td>\n",
              "      <td>250</td>\n",
              "      <td>28.0</td>\n",
              "      <td>43</td>\n",
              "      <td>10.0</td>\n",
              "      <td>52</td>\n",
              "      <td>0.0</td>\n",
              "      <td>285</td>\n",
              "      <td>95</td>\n",
              "      <td>860</td>\n",
              "      <td>36</td>\n",
              "      <td>30</td>\n",
              "      <td>10</td>\n",
              "      <td>4</td>\n",
              "      <td>17</td>\n",
              "      <td>2</td>\n",
              "      <td>21</td>\n",
              "      <td>15</td>\n",
              "      <td>0</td>\n",
              "      <td>30</td>\n",
              "      <td>15</td>\n",
              "    </tr>\n",
              "    <tr>\n",
              "      <th>4</th>\n",
              "      <td>Breakfast</td>\n",
              "      <td>Sausage McMuffin with Egg Whites</td>\n",
              "      <td>5.7 oz (161 g)</td>\n",
              "      <td>400</td>\n",
              "      <td>210</td>\n",
              "      <td>23.0</td>\n",
              "      <td>35</td>\n",
              "      <td>8.0</td>\n",
              "      <td>42</td>\n",
              "      <td>0.0</td>\n",
              "      <td>50</td>\n",
              "      <td>16</td>\n",
              "      <td>880</td>\n",
              "      <td>37</td>\n",
              "      <td>30</td>\n",
              "      <td>10</td>\n",
              "      <td>4</td>\n",
              "      <td>17</td>\n",
              "      <td>2</td>\n",
              "      <td>21</td>\n",
              "      <td>6</td>\n",
              "      <td>0</td>\n",
              "      <td>25</td>\n",
              "      <td>10</td>\n",
              "    </tr>\n",
              "  </tbody>\n",
              "</table>\n",
              "</div>"
            ],
            "text/plain": [
              "    Category                              Item    Serving Size  Calories  \\\n",
              "0  Breakfast                      Egg McMuffin  4.8 oz (136 g)       300   \n",
              "1  Breakfast                 Egg White Delight  4.8 oz (135 g)       250   \n",
              "2  Breakfast                  Sausage McMuffin  3.9 oz (111 g)       370   \n",
              "3  Breakfast         Sausage McMuffin with Egg  5.7 oz (161 g)       450   \n",
              "4  Breakfast  Sausage McMuffin with Egg Whites  5.7 oz (161 g)       400   \n",
              "\n",
              "   Calories from Fat  Total Fat  Total Fat (% Daily Value)  Saturated Fat  \\\n",
              "0                120       13.0                         20            5.0   \n",
              "1                 70        8.0                         12            3.0   \n",
              "2                200       23.0                         35            8.0   \n",
              "3                250       28.0                         43           10.0   \n",
              "4                210       23.0                         35            8.0   \n",
              "\n",
              "   Saturated Fat (% Daily Value)  Trans Fat  Cholesterol  \\\n",
              "0                             25        0.0          260   \n",
              "1                             15        0.0           25   \n",
              "2                             42        0.0           45   \n",
              "3                             52        0.0          285   \n",
              "4                             42        0.0           50   \n",
              "\n",
              "   Cholesterol (% Daily Value)  Sodium  Sodium (% Daily Value)  Carbohydrates  \\\n",
              "0                           87     750                      31             31   \n",
              "1                            8     770                      32             30   \n",
              "2                           15     780                      33             29   \n",
              "3                           95     860                      36             30   \n",
              "4                           16     880                      37             30   \n",
              "\n",
              "   Carbohydrates (% Daily Value)  Dietary Fiber  \\\n",
              "0                             10              4   \n",
              "1                             10              4   \n",
              "2                             10              4   \n",
              "3                             10              4   \n",
              "4                             10              4   \n",
              "\n",
              "   Dietary Fiber (% Daily Value)  Sugars  Protein  Vitamin A (% Daily Value)  \\\n",
              "0                             17       3       17                         10   \n",
              "1                             17       3       18                          6   \n",
              "2                             17       2       14                          8   \n",
              "3                             17       2       21                         15   \n",
              "4                             17       2       21                          6   \n",
              "\n",
              "   Vitamin C (% Daily Value)  Calcium (% Daily Value)  Iron (% Daily Value)  \n",
              "0                          0                       25                    15  \n",
              "1                          0                       25                     8  \n",
              "2                          0                       25                    10  \n",
              "3                          0                       30                    15  \n",
              "4                          0                       25                    10  "
            ]
          },
          "metadata": {
            "tags": []
          },
          "execution_count": 28
        }
      ]
    },
    {
      "cell_type": "code",
      "metadata": {
        "colab": {
          "base_uri": "https://localhost:8080/"
        },
        "id": "gJgLvR8x_db8",
        "outputId": "de83c797-14fa-45c8-db6f-397cf7d75fc7"
      },
      "source": [
        "pip install matplotlib"
      ],
      "execution_count": null,
      "outputs": [
        {
          "output_type": "stream",
          "text": [
            "Requirement already satisfied: matplotlib in /usr/local/lib/python3.6/dist-packages (3.2.2)\n",
            "Requirement already satisfied: cycler>=0.10 in /usr/local/lib/python3.6/dist-packages (from matplotlib) (0.10.0)\n",
            "Requirement already satisfied: pyparsing!=2.0.4,!=2.1.2,!=2.1.6,>=2.0.1 in /usr/local/lib/python3.6/dist-packages (from matplotlib) (2.4.7)\n",
            "Requirement already satisfied: kiwisolver>=1.0.1 in /usr/local/lib/python3.6/dist-packages (from matplotlib) (1.3.1)\n",
            "Requirement already satisfied: numpy>=1.11 in /usr/local/lib/python3.6/dist-packages (from matplotlib) (1.18.5)\n",
            "Requirement already satisfied: python-dateutil>=2.1 in /usr/local/lib/python3.6/dist-packages (from matplotlib) (2.8.1)\n",
            "Requirement already satisfied: six in /usr/local/lib/python3.6/dist-packages (from cycler>=0.10->matplotlib) (1.15.0)\n"
          ],
          "name": "stdout"
        }
      ]
    },
    {
      "cell_type": "code",
      "metadata": {
        "id": "7ZzCIsHHB0bL"
      },
      "source": [
        "import matplotlib.pyplot as plt"
      ],
      "execution_count": null,
      "outputs": []
    },
    {
      "cell_type": "code",
      "metadata": {
        "colab": {
          "base_uri": "https://localhost:8080/",
          "height": 295
        },
        "id": "l8DqpeaaB1ru",
        "outputId": "34495616-7a9d-4be1-c7d4-878395abdfa0"
      },
      "source": [
        "import matplotlib.pyplot as plt\n",
        "import pandas as pd\n",
        "df=pd.read_csv(\"/content/drive/MyDrive/Colab Notebooks/menu.csv\")\n",
        "\n",
        "#Plots in matplotlib reside within a figure\n",
        "\n",
        "fig=plt.figure()\n",
        "\n",
        "\n",
        "ax = fig.add_subplot(1,1,1)\n",
        "\n",
        "#Variable\n",
        "ax.hist(df['Protein'],bins = 10)\n",
        "#Labels and Tit\n",
        "plt.title('Protein From Food')\n",
        "plt.xlabel('Protein')\n",
        "plt.ylabel('Jumlah Protein')\n",
        "plt.show()"
      ],
      "execution_count": null,
      "outputs": [
        {
          "output_type": "display_data",
          "data": {
            "image/png": "[encoded data removed]",
            "text/plain": [
              "<Figure size 432x288 with 1 Axes>"
            ]
          },
          "metadata": {
            "tags": [],
            "needs_background": "light"
          }
        }
      ]
    },
    {
      "cell_type": "code",
      "metadata": {
        "colab": {
          "base_uri": "https://localhost:8080/",
          "height": 295
        },
        "id": "CZfQZqqwE84k",
        "outputId": "d00300a1-675d-481b-9a25-40730fe4af8d"
      },
      "source": [
        "fig=plt.figure()\n",
        "\n",
        "ax = fig.add_subplot(1,1,1)\n",
        "\n",
        "ax.scatter(df['Calories'],df['Cholesterol (% Daily Value)'])\n",
        "\n",
        "plt.title('Calories dan Cholesterol')\n",
        "plt.xlabel('Calories')\n",
        "plt.ylabel('Cholesterol')\n",
        "plt.show()"
      ],
      "execution_count": null,
      "outputs": [
        {
          "output_type": "display_data",
          "data": {
            "image/png": "[encoded data removed]",
            "text/plain": [
              "<Figure size 432x288 with 1 Axes>"
            ]
          },
          "metadata": {
            "tags": [],
            "needs_background": "light"
          }
        }
      ]
    },
    {
      "cell_type": "code",
      "metadata": {
        "colab": {
          "base_uri": "https://localhost:8080/",
          "height": 334
        },
        "id": "GWplBcDSFcYH",
        "outputId": "7d0f9a86-d5e7-4776-99c2-9a58c52a21af"
      },
      "source": [
        "import seaborn as sns\n",
        "sns.boxplot(df['Sodium'])\n",
        "sns.despine()"
      ],
      "execution_count": null,
      "outputs": [
        {
          "output_type": "stream",
          "text": [
            "/usr/local/lib/python3.6/dist-packages/seaborn/_decorators.py:43: FutureWarning: Pass the following variable as a keyword arg: x. From version 0.12, the only valid positional argument will be `data`, and passing other arguments without an explicit keyword will result in an error or misinterpretation.\n",
            "  FutureWarning\n"
          ],
          "name": "stderr"
        },
        {
          "output_type": "display_data",
          "data": {
            "image/png": "[encoded data removed]",
            "text/plain": [
              "<Figure size 432x288 with 1 Axes>"
            ]
          },
          "metadata": {
            "tags": [],
            "needs_background": "light"
          }
        }
      ]
    },
    {
      "cell_type": "code",
      "metadata": {
        "colab": {
          "base_uri": "https://localhost:8080/"
        },
        "id": "VLXWtAWXFnfw",
        "outputId": "24a5b3e4-ffc4-4bd5-f7bb-6808d58944d1"
      },
      "source": [
        "import pandas as pd\n",
        "df=pd.read_csv(\"/content/drive/MyDrive/Colab Notebooks/menu.csv\")\n",
        "print (df)\n",
        "test= df.groupby(['Protein','Cholesterol (% Daily Value)'])\n",
        "test.size()"
      ],
      "execution_count": null,
      "outputs": [
        {
          "output_type": "stream",
          "text": [
            "               Category                                               Item  \\\n",
            "0             Breakfast                                       Egg McMuffin   \n",
            "1             Breakfast                                  Egg White Delight   \n",
            "2             Breakfast                                   Sausage McMuffin   \n",
            "3             Breakfast                          Sausage McMuffin with Egg   \n",
            "4             Breakfast                   Sausage McMuffin with Egg Whites   \n",
            "..                  ...                                                ...   \n",
            "255  Smoothies & Shakes                 McFlurry with Oreo Cookies (Small)   \n",
            "256  Smoothies & Shakes                McFlurry with Oreo Cookies (Medium)   \n",
            "257  Smoothies & Shakes                 McFlurry with Oreo Cookies (Snack)   \n",
            "258  Smoothies & Shakes  McFlurry with Reese's Peanut Butter Cups (Medium)   \n",
            "259  Smoothies & Shakes   McFlurry with Reese's Peanut Butter Cups (Snack)   \n",
            "\n",
            "        Serving Size  Calories  Calories from Fat  Total Fat  \\\n",
            "0     4.8 oz (136 g)       300                120       13.0   \n",
            "1     4.8 oz (135 g)       250                 70        8.0   \n",
            "2     3.9 oz (111 g)       370                200       23.0   \n",
            "3     5.7 oz (161 g)       450                250       28.0   \n",
            "4     5.7 oz (161 g)       400                210       23.0   \n",
            "..               ...       ...                ...        ...   \n",
            "255  10.1 oz (285 g)       510                150       17.0   \n",
            "256  13.4 oz (381 g)       690                200       23.0   \n",
            "257   6.7 oz (190 g)       340                100       11.0   \n",
            "258  14.2 oz (403 g)       810                290       32.0   \n",
            "259   7.1 oz (202 g)       410                150       16.0   \n",
            "\n",
            "     Total Fat (% Daily Value)  Saturated Fat  Saturated Fat (% Daily Value)  \\\n",
            "0                           20            5.0                             25   \n",
            "1                           12            3.0                             15   \n",
            "2                           35            8.0                             42   \n",
            "3                           43           10.0                             52   \n",
            "4                           35            8.0                             42   \n",
            "..                         ...            ...                            ...   \n",
            "255                         26            9.0                             44   \n",
            "256                         35           12.0                             58   \n",
            "257                         17            6.0                             29   \n",
            "258                         50           15.0                             76   \n",
            "259                         25            8.0                             38   \n",
            "\n",
            "     Trans Fat  Cholesterol  Cholesterol (% Daily Value)  Sodium  \\\n",
            "0          0.0          260                           87     750   \n",
            "1          0.0           25                            8     770   \n",
            "2          0.0           45                           15     780   \n",
            "3          0.0          285                           95     860   \n",
            "4          0.0           50                           16     880   \n",
            "..         ...          ...                          ...     ...   \n",
            "255        0.5           45                           14     280   \n",
            "256        1.0           55                           19     380   \n",
            "257        0.0           30                            9     190   \n",
            "258        1.0           60                           20     400   \n",
            "259        0.0           30                           10     200   \n",
            "\n",
            "     Sodium (% Daily Value)  Carbohydrates  Carbohydrates (% Daily Value)  \\\n",
            "0                        31             31                             10   \n",
            "1                        32             30                             10   \n",
            "2                        33             29                             10   \n",
            "3                        36             30                             10   \n",
            "4                        37             30                             10   \n",
            "..                      ...            ...                            ...   \n",
            "255                      12             80                             27   \n",
            "256                      16            106                             35   \n",
            "257                       8             53                             18   \n",
            "258                      17            114                             38   \n",
            "259                       8             57                             19   \n",
            "\n",
            "     Dietary Fiber  Dietary Fiber (% Daily Value)  Sugars  Protein  \\\n",
            "0                4                             17       3       17   \n",
            "1                4                             17       3       18   \n",
            "2                4                             17       2       14   \n",
            "3                4                             17       2       21   \n",
            "4                4                             17       2       21   \n",
            "..             ...                            ...     ...      ...   \n",
            "255              1                              4      64       12   \n",
            "256              1                              5      85       15   \n",
            "257              1                              2      43        8   \n",
            "258              2                              9     103       21   \n",
            "259              1                              5      51       10   \n",
            "\n",
            "     Vitamin A (% Daily Value)  Vitamin C (% Daily Value)  \\\n",
            "0                           10                          0   \n",
            "1                            6                          0   \n",
            "2                            8                          0   \n",
            "3                           15                          0   \n",
            "4                            6                          0   \n",
            "..                         ...                        ...   \n",
            "255                         15                          0   \n",
            "256                         20                          0   \n",
            "257                         10                          0   \n",
            "258                         20                          0   \n",
            "259                         10                          0   \n",
            "\n",
            "     Calcium (% Daily Value)  Iron (% Daily Value)  \n",
            "0                         25                    15  \n",
            "1                         25                     8  \n",
            "2                         25                    10  \n",
            "3                         30                    15  \n",
            "4                         25                    10  \n",
            "..                       ...                   ...  \n",
            "255                       40                     8  \n",
            "256                       50                    10  \n",
            "257                       25                     6  \n",
            "258                       60                     6  \n",
            "259                       30                     4  \n",
            "\n",
            "[260 rows x 24 columns]\n"
          ],
          "name": "stdout"
        },
        {
          "output_type": "execute_result",
          "data": {
            "text/plain": [
              "Protein  Cholesterol (% Daily Value)\n",
              "0        0                              27\n",
              "1        0                               7\n",
              "         2                               1\n",
              "         6                               5\n",
              "         9                               5\n",
              "                                        ..\n",
              "40       35                              1\n",
              "         37                              1\n",
              "44       44                              1\n",
              "48       53                              1\n",
              "87       89                              1\n",
              "Length: 144, dtype: int64"
            ]
          },
          "metadata": {
            "tags": []
          },
          "execution_count": 46
        }
      ]
    }
  ]
}